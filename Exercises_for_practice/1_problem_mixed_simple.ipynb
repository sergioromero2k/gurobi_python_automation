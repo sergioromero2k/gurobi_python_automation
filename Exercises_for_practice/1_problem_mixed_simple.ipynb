{
 "cells": [
  {
   "metadata": {},
   "cell_type": "markdown",
   "source": "## Nivel Básico: El Problema de la Mezcla Simple (Maximización de Beneficios)",
   "id": "9d11a913669a819d"
  },
  {
   "metadata": {},
   "cell_type": "markdown",
   "source": [
    "Este es el problema cláscio para empezar, donde buscas la mejor combinación de productos para maximizar la ganancia, respetando las limitaciones de recursos.\n",
    "\n",
    "#### Problema:\n",
    "Una empresa fabrica dos productos, A y B.\n",
    "| Producto | Beneficio por unidad ($) | Horas de Máquina-1 (por unidad) | Horas de Máquina-2 (por unidad) |\n",
    "|----------|-------------------------|---------------------------------|---------------------------------|\n",
    "| A        | 3                       | 2                               | 1                               |\n",
    "| B        | 5                       | 1                               | 2                               |\n",
    "| **Límite de Horas** |                         | 100                             | 110                             |\n",
    "\n",
    "**Objetivo**: Maximizar el beneficio total."
   ],
   "id": "85c373812212849f"
  },
  {
   "metadata": {},
   "cell_type": "markdown",
   "source": [
    "#### Función Objetivo (Maximizar)\n",
    "![Funcion objeto](../assets/mixed_simple_function_objective.png)"
   ],
   "id": "ba51b0426ecd35dc"
  },
  {
   "metadata": {
    "ExecuteTime": {
     "end_time": "2025-10-12T19:15:00.272200Z",
     "start_time": "2025-10-12T19:15:00.267248Z"
    }
   },
   "cell_type": "code",
   "outputs": [],
   "execution_count": 12,
   "source": [
    "# Import the library\n",
    "from gurobipy import *\n",
    "# import gurobipy as gp"
   ],
   "id": "bdf56c096f4e3931"
  },
  {
   "metadata": {
    "ExecuteTime": {
     "end_time": "2025-10-12T19:15:00.292458Z",
     "start_time": "2025-10-12T19:15:00.288600Z"
    }
   },
   "cell_type": "code",
   "outputs": [],
   "execution_count": 13,
   "source": [
    "# Initialization the model\n",
    "model = Model(\"Model 1\")"
   ],
   "id": "622238b9c30c8feb"
  },
  {
   "metadata": {
    "ExecuteTime": {
     "end_time": "2025-10-12T19:19:06.288472Z",
     "start_time": "2025-10-12T19:19:06.276841Z"
    }
   },
   "cell_type": "code",
   "source": [
    "# Creating the variable of decision - continue\n",
    "x = model.addVar(vtype= GRB.CONTINUOUS, name='x')\n",
    "y = model.addVar(vtype= GRB.CONTINUOUS, name ='y')"
   ],
   "id": "3f86b4a53a5b6a23",
   "outputs": [],
   "execution_count": 15
  },
  {
   "metadata": {
    "ExecuteTime": {
     "end_time": "2025-10-12T19:19:35.621684Z",
     "start_time": "2025-10-12T19:19:35.610132Z"
    }
   },
   "cell_type": "code",
   "source": [
    "# Creating the function objective\n",
    "model.setObjective(3*x+5*y,GRB.MAXIMIZE)"
   ],
   "id": "eade8d47252550a5",
   "outputs": [],
   "execution_count": 16
  },
  {
   "metadata": {
    "ExecuteTime": {
     "end_time": "2025-10-12T19:24:19.633078Z",
     "start_time": "2025-10-12T19:24:19.622109Z"
    }
   },
   "cell_type": "code",
   "source": [
    "# Writing the restrictions\n",
    "model.addConstr(2*x+y<=100)\n",
    "model.addConstr(x+2*y<=110)"
   ],
   "id": "bfdea4c5955c3bf3",
   "outputs": [
    {
     "data": {
      "text/plain": [
       "<gurobi.Constr *Awaiting Model Update*>"
      ]
     },
     "execution_count": 20,
     "metadata": {},
     "output_type": "execute_result"
    }
   ],
   "execution_count": 20
  },
  {
   "metadata": {
    "ExecuteTime": {
     "end_time": "2025-10-12T19:27:20.974366Z",
     "start_time": "2025-10-12T19:27:20.954326Z"
    }
   },
   "cell_type": "code",
   "source": [
    "# Just if you want to import the model\n",
    "model.write(\"Modelo_1.mps\")  # formato MPS\n",
    "model.write(\"Modelo_1.lp\")  # formato MPS"
   ],
   "id": "2763a071a7533a03",
   "outputs": [
    {
     "name": "stdout",
     "output_type": "stream",
     "text": [
      "Warning: variables 0 and 2 have the same name \"x\"\n",
      "Warning: default variable names used to write mps file\n",
      "Warning: variables 0 and 2 have the same name \"x\"\n",
      "Warning: to let Gurobi read it back, use rlp format\n"
     ]
    }
   ],
   "execution_count": 25
  },
  {
   "metadata": {
    "ExecuteTime": {
     "end_time": "2025-10-12T19:27:42.625136Z",
     "start_time": "2025-10-12T19:27:42.567112Z"
    }
   },
   "cell_type": "code",
   "source": [
    "# Optimize\n",
    "model.optimize()"
   ],
   "id": "8c4dc57d856a0164",
   "outputs": [
    {
     "name": "stdout",
     "output_type": "stream",
     "text": [
      "Gurobi Optimizer version 12.0.3 build v12.0.3rc0 (win64 - Windows 11.0 (26100.2))\n",
      "\n",
      "CPU model: 12th Gen Intel(R) Core(TM) i7-1255U, instruction set [SSE2|AVX|AVX2]\n",
      "Thread count: 10 physical cores, 12 logical processors, using up to 12 threads\n",
      "\n",
      "Optimize a model with 6 rows, 4 columns and 10 nonzeros\n",
      "Model fingerprint: 0x128d9483\n",
      "Coefficient statistics:\n",
      "  Matrix range     [1e+00, 2e+00]\n",
      "  Objective range  [3e+00, 5e+00]\n",
      "  Bounds range     [0e+00, 0e+00]\n",
      "  RHS range        [1e+02, 1e+02]\n",
      "Presolve removed 4 rows and 2 columns\n",
      "Presolve time: 0.02s\n",
      "Presolved: 2 rows, 2 columns, 4 nonzeros\n",
      "\n",
      "Iteration    Objective       Primal Inf.    Dual Inf.      Time\n",
      "       0    5.0000000e+02   2.248600e+01   0.000000e+00      0s\n",
      "       2    2.9000000e+02   0.000000e+00   0.000000e+00      0s\n",
      "\n",
      "Solved in 2 iterations and 0.04 seconds (0.00 work units)\n",
      "Optimal objective  2.900000000e+02\n"
     ]
    }
   ],
   "execution_count": 26
  },
  {
   "metadata": {
    "ExecuteTime": {
     "end_time": "2025-10-12T19:28:54.873828Z",
     "start_time": "2025-10-12T19:28:54.863159Z"
    }
   },
   "cell_type": "code",
   "source": [
    "# Values of the variables\n",
    "model.getVars()"
   ],
   "id": "d00c4f4663954695",
   "outputs": [
    {
     "data": {
      "text/plain": [
       "[<gurobi.Var x (value 0.0)>,\n",
       " <gurobi.Var y (value 0.0)>,\n",
       " <gurobi.Var x (value 30.0)>,\n",
       " <gurobi.Var y (value 40.0)>]"
      ]
     },
     "execution_count": 27,
     "metadata": {},
     "output_type": "execute_result"
    }
   ],
   "execution_count": 27
  },
  {
   "metadata": {
    "ExecuteTime": {
     "end_time": "2025-10-12T19:29:48.301699Z",
     "start_time": "2025-10-12T19:29:48.295506Z"
    }
   },
   "cell_type": "code",
   "source": [
    "# Value of the only variable\n",
    "x.x"
   ],
   "id": "bd7aa0c21eb5c25b",
   "outputs": [
    {
     "data": {
      "text/plain": [
       "30.0"
      ]
     },
     "execution_count": 31,
     "metadata": {},
     "output_type": "execute_result"
    }
   ],
   "execution_count": 31
  },
  {
   "metadata": {
    "ExecuteTime": {
     "end_time": "2025-10-12T19:33:21.392349Z",
     "start_time": "2025-10-12T19:33:21.364534Z"
    }
   },
   "cell_type": "code",
   "source": [
    "# Print all the values\n",
    "print(\"Función objetivo: \",str(round(model.ObjVal,2)))\n",
    "for m in model.getVars():\n",
    "    print(f\"{str(m.VarName)} = {(round(m.x, 2))}\")"
   ],
   "id": "aa5f1f64ad49858f",
   "outputs": [
    {
     "name": "stdout",
     "output_type": "stream",
     "text": [
      "Función objetivo:  290.0\n",
      "x = 0.0\n",
      "y = 0.0\n",
      "x = 30.0\n",
      "y = 40.0\n"
     ]
    }
   ],
   "execution_count": 32
  }
 ],
 "metadata": {
  "kernelspec": {
   "display_name": "Python 3",
   "language": "python",
   "name": "python3"
  },
  "language_info": {
   "codemirror_mode": {
    "name": "ipython",
    "version": 2
   },
   "file_extension": ".py",
   "mimetype": "text/x-python",
   "name": "python",
   "nbconvert_exporter": "python",
   "pygments_lexer": "ipython2",
   "version": "2.7.6"
  }
 },
 "nbformat": 4,
 "nbformat_minor": 5
}
